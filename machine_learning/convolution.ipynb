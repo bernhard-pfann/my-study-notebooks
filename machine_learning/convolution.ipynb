{
 "cells": [
  {
   "attachments": {},
   "cell_type": "markdown",
   "metadata": {},
   "source": [
    "## Convolution\n",
    "***"
   ]
  },
  {
   "cell_type": "code",
   "execution_count": 11,
   "metadata": {},
   "outputs": [],
   "source": [
    "import numpy as np"
   ]
  },
  {
   "cell_type": "code",
   "execution_count": 12,
   "metadata": {},
   "outputs": [
    {
     "name": "stdout",
     "output_type": "stream",
     "text": [
      "Input: [ 0  0  1  3 -1  1 -3  0  0]\n",
      "Kernel: [ 1  0 -1]\n"
     ]
    }
   ],
   "source": [
    "g_n = np.array([1, 0, -1])\n",
    "f_n = np.array([1, 3, -1, 1, -3])\n",
    "f_n = np.pad(f_n, pad_width=len(g_n)-1)\n",
    "\n",
    "print(\"Input:\", f_n)\n",
    "print(\"Kernel:\", g_n)"
   ]
  },
  {
   "cell_type": "code",
   "execution_count": 13,
   "metadata": {},
   "outputs": [],
   "source": [
    "def convolution(input: np.array, kernel: np.array, show_edges: bool) -> np.array:\n",
    "    \"\"\"Perform a 1D convolution of an input array with a given kernel.\n",
    "\n",
    "    Args:\n",
    "        input (np.array): 1D numpy array containing the input signal.\n",
    "        kernel (np.array): 1D numpy array containing the convolution kernel.\n",
    "        show_edges (bool): If True, the output array will have the same length as the input,\n",
    "            with the edges of the signal padded with zeros.\n",
    "\n",
    "    Returns:\n",
    "        np.array: 1D numpy array containing the convolution of the input signal with the kernel.\n",
    "    \"\"\"\n",
    "    n = len(kernel)\n",
    "    n_slide = len(input)-n+1\n",
    "    conv = np.array([])\n",
    "\n",
    "    for i in range(n_slide):\n",
    "        window = input[i:i+n]\n",
    "        conv   = np.append(conv, np.inner(window, kernel))\n",
    "    \n",
    "    if not show_edges:\n",
    "        conv = conv[n-1: -(n-1)]\n",
    "\n",
    "    return conv\n"
   ]
  },
  {
   "cell_type": "code",
   "execution_count": 14,
   "metadata": {},
   "outputs": [
    {
     "data": {
      "text/plain": [
       "array([-1., -3.,  2.,  2.,  2.,  1., -3.])"
      ]
     },
     "execution_count": 14,
     "metadata": {},
     "output_type": "execute_result"
    }
   ],
   "source": [
    "# Convolution of sliding window (kernel) over complete range of f_n\n",
    "convolution(input=f_n, kernel=g_n, show_edges=True)"
   ]
  },
  {
   "cell_type": "code",
   "execution_count": 15,
   "metadata": {},
   "outputs": [
    {
     "data": {
      "text/plain": [
       "array([2., 2., 2.])"
      ]
     },
     "execution_count": 15,
     "metadata": {},
     "output_type": "execute_result"
    }
   ],
   "source": [
    "# Convolution of sliding window (kernel) only where complete overlap\n",
    "convolution(input=f_n, kernel=g_n, show_edges=False)"
   ]
  }
 ],
 "metadata": {
  "kernelspec": {
   "display_name": "Python 3",
   "language": "python",
   "name": "python3"
  },
  "language_info": {
   "codemirror_mode": {
    "name": "ipython",
    "version": 3
   },
   "file_extension": ".py",
   "mimetype": "text/x-python",
   "name": "python",
   "nbconvert_exporter": "python",
   "pygments_lexer": "ipython3",
   "version": "3.8.10"
  },
  "orig_nbformat": 4
 },
 "nbformat": 4,
 "nbformat_minor": 2
}
