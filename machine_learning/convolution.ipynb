{
 "cells": [
  {
   "attachments": {},
   "cell_type": "markdown",
   "metadata": {},
   "source": [
    "## Convolution\n",
    "***"
   ]
  },
  {
   "cell_type": "code",
   "execution_count": 1,
   "metadata": {},
   "outputs": [],
   "source": [
    "import numpy as np\n",
    "\n",
    "def convolution(input, kernel, t):\n",
    "        print(input[:t], kernel[-t:])\n",
    "        return np.inner(input[:t], kernel[-t:])"
   ]
  },
  {
   "cell_type": "code",
   "execution_count": 13,
   "metadata": {},
   "outputs": [
    {
     "name": "stdout",
     "output_type": "stream",
     "text": [
      "Input: [ 0  0  1  3 -1  1 -3  0  0]\n",
      "Kernel: [ 1  0 -1]\n"
     ]
    }
   ],
   "source": [
    "f_n = np.array([1, 3, -1, 1, -3])\n",
    "g_n = np.array([1, 0, -1])\n",
    "\n",
    "# f_n = np.array([1, 2, 3])\n",
    "# g_n = np.array([2, 1])\n",
    "\n",
    "f_n = np.pad(f_n, pad_width=len(g_n)-1)\n",
    "# g_n = np.flip(g_n)\n",
    "\n",
    "print(\"Input:\", f_n)\n",
    "print(\"Kernel:\", g_n)"
   ]
  },
  {
   "cell_type": "code",
   "execution_count": 22,
   "metadata": {},
   "outputs": [
    {
     "data": {
      "text/plain": [
       "array([2., 2., 2.])"
      ]
     },
     "execution_count": 22,
     "metadata": {},
     "output_type": "execute_result"
    }
   ],
   "source": [
    "def convolution(input: np.array, kernel: np.array, show_edges: bool):\n",
    "\n",
    "    n = len(kernel)\n",
    "    n_slide = len(input)-n+1\n",
    "    conv = np.array([])\n",
    "\n",
    "    for i in range(n_slide):\n",
    "        window = input[i:i+n]\n",
    "        conv   = np.append(conv, np.inner(window, kernel))\n",
    "    \n",
    "    if not show_edges:\n",
    "        conv = conv[n-1: -(n-1)]\n",
    "\n",
    "    return conv\n",
    "\n",
    "convolution(input=f_n, kernel=g_n, show_edges=False)"
   ]
  },
  {
   "cell_type": "code",
   "execution_count": null,
   "metadata": {},
   "outputs": [],
   "source": []
  }
 ],
 "metadata": {
  "kernelspec": {
   "display_name": "Python 3",
   "language": "python",
   "name": "python3"
  },
  "language_info": {
   "codemirror_mode": {
    "name": "ipython",
    "version": 3
   },
   "file_extension": ".py",
   "mimetype": "text/x-python",
   "name": "python",
   "nbconvert_exporter": "python",
   "pygments_lexer": "ipython3",
   "version": "3.8.10"
  },
  "orig_nbformat": 4
 },
 "nbformat": 4,
 "nbformat_minor": 2
}
