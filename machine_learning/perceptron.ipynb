{
 "cells": [
  {
   "cell_type": "code",
   "execution_count": 2,
   "metadata": {},
   "outputs": [],
   "source": [
    "import numpy as np\n",
    "import pandas as pd\n",
    "import matplotlib.pyplot as plt"
   ]
  },
  {
   "cell_type": "code",
   "execution_count": 3,
   "metadata": {},
   "outputs": [],
   "source": [
    "x_arr = np.array([[-1,-1], [1,0], [-1,10]])\n",
    "y_arr = np.array([1, -1, 1])\n",
    "\n",
    "color = pd.Series(y_arr).replace({1: \"green\", -1: \"red\"})"
   ]
  },
  {
   "cell_type": "code",
   "execution_count": 4,
   "metadata": {},
   "outputs": [
    {
     "data": {
      "image/png": "[encoded data removed]",
      "text/plain": [
       "<Figure size 500x500 with 1 Axes>"
      ]
     },
     "metadata": {},
     "output_type": "display_data"
    }
   ],
   "source": [
    "plt.figure(figsize=(5,5))\n",
    "plt.scatter(x_arr[:,0], x_arr[:,1], color=color)\n",
    "\n",
    "plt.axhline(0, c=\"black\", alpha=0.2)\n",
    "plt.axvline(0, c=\"black\", alpha=0.2)\n",
    "plt.xticks(np.arange(-3,3,step=1))\n",
    "plt.yticks(np.arange(-3,3,step=1))\n",
    "plt.show()"
   ]
  },
  {
   "cell_type": "code",
   "execution_count": null,
   "metadata": {},
   "outputs": [],
   "source": [
    "def perceptron(x_arr: np.array, y_arr: np.array):\n",
    "    \"\"\"Implementation of perceptron algorithm\"\"\"\n",
    "    \n",
    "    # theta initialized at 0\n",
    "    theta = np.zeros([1, x_arr.shape[1]])\n",
    "    theta_0 = 0\n",
    "\n",
    "    error = 1     # counts mistakes made\n",
    "    loop = 0      # counter for number of loop we are in\n",
    "\n",
    "    # loop as long as there is at least 1 error made during train set loop\n",
    "    while error > 0:\n",
    "        error = 0\n",
    "        print(\"\\nLOOP:\", loop)\n",
    "        \n",
    "        for i, (x,y) in enumerate(zip(x_arr, y_arr)):\n",
    "            print(\"\\titer:\" ,i)\n",
    "        \n",
    "            z = y*(np.dot(theta, x) + theta_0)\n",
    "            \n",
    "            if z <=0:\n",
    "                theta = theta + y*x\n",
    "                # theta_0 = theta_0 + y\n",
    "                \n",
    "                error += 1\n",
    "                print(\"\\t\\ttheta\", theta, theta_0)\n",
    "        \n",
    "        loop += 1"
   ]
  },
  {
   "cell_type": "code",
   "execution_count": null,
   "metadata": {},
   "outputs": [],
   "source": [
    "dim = 5\n",
    "\n",
    "y_arr = np.ones([dim, 1])\n",
    "x_arr = np.zeros([dim, dim])\n",
    "\n",
    "for i in range(dim):\n",
    "    x_arr[i][i] = np.cos(np.pi*(i+1))"
   ]
  },
  {
   "cell_type": "code",
   "execution_count": null,
   "metadata": {},
   "outputs": [
    {
     "data": {
      "text/plain": [
       "array([[-1.,  0.,  0.,  0.,  0.],\n",
       "       [ 0.,  1.,  0.,  0.,  0.],\n",
       "       [ 0.,  0., -1.,  0.,  0.],\n",
       "       [ 0.,  0.,  0.,  1.,  0.],\n",
       "       [ 0.,  0.,  0.,  0., -1.]])"
      ]
     },
     "execution_count": 56,
     "metadata": {},
     "output_type": "execute_result"
    }
   ],
   "source": [
    "x_arr"
   ]
  },
  {
   "cell_type": "code",
   "execution_count": 57,
   "metadata": {},
   "outputs": [
    {
     "name": "stdout",
     "output_type": "stream",
     "text": [
      "\n",
      "LOOP: 0\n",
      "\titer: 0\n",
      "> \u001b[0;32m/tmp/ipykernel_838/235049772.py\u001b[0m(20)\u001b[0;36mperceptron\u001b[0;34m()\u001b[0m\n",
      "\u001b[0;32m     18 \u001b[0;31m\u001b[0;34m\u001b[0m\u001b[0m\n",
      "\u001b[0m\u001b[0;32m     19 \u001b[0;31m            \u001b[0;32mimport\u001b[0m \u001b[0mpdb\u001b[0m\u001b[0;34m;\u001b[0m \u001b[0mpdb\u001b[0m\u001b[0;34m.\u001b[0m\u001b[0mset_trace\u001b[0m\u001b[0;34m(\u001b[0m\u001b[0;34m)\u001b[0m\u001b[0;34m\u001b[0m\u001b[0;34m\u001b[0m\u001b[0m\n",
      "\u001b[0m\u001b[0;32m---> 20 \u001b[0;31m            \u001b[0mz\u001b[0m \u001b[0;34m=\u001b[0m \u001b[0my\u001b[0m\u001b[0;34m*\u001b[0m\u001b[0;34m(\u001b[0m\u001b[0mnp\u001b[0m\u001b[0;34m.\u001b[0m\u001b[0mdot\u001b[0m\u001b[0;34m(\u001b[0m\u001b[0mtheta\u001b[0m\u001b[0;34m,\u001b[0m \u001b[0mx\u001b[0m\u001b[0;34m)\u001b[0m \u001b[0;34m+\u001b[0m \u001b[0mtheta_0\u001b[0m\u001b[0;34m)\u001b[0m\u001b[0;34m\u001b[0m\u001b[0;34m\u001b[0m\u001b[0m\n",
      "\u001b[0m\u001b[0;32m     21 \u001b[0;31m\u001b[0;34m\u001b[0m\u001b[0m\n",
      "\u001b[0m\u001b[0;32m     22 \u001b[0;31m            \u001b[0;32mif\u001b[0m \u001b[0mz\u001b[0m \u001b[0;34m<=\u001b[0m\u001b[0;36m0\u001b[0m\u001b[0;34m:\u001b[0m\u001b[0;34m\u001b[0m\u001b[0;34m\u001b[0m\u001b[0m\n",
      "\u001b[0m\n",
      "array([[0.],\n",
      "       [0.],\n",
      "       [0.],\n",
      "       [0.],\n",
      "       [0.]])\n",
      "array([-1.,  0.,  0.,  0.,  0.])\n",
      "array([-1.,  0.,  0.,  0.,  0.])\n",
      "*** ValueError: shapes (5,1) and (5,) not aligned: 1 (dim 1) != 5 (dim 0)\n",
      "array([[0., 0., 0., 0., 0.]])\n",
      "array([[0., 0., 0., 0., 0.]])\n",
      "array([[0., 0., 0., 0., 0.]])\n"
     ]
    }
   ],
   "source": [
    "perceptron(x_arr, y_arr)"
   ]
  }
 ],
 "metadata": {
  "kernelspec": {
   "display_name": "Python 3",
   "language": "python",
   "name": "python3"
  },
  "language_info": {
   "codemirror_mode": {
    "name": "ipython",
    "version": 3
   },
   "file_extension": ".py",
   "mimetype": "text/x-python",
   "name": "python",
   "nbconvert_exporter": "python",
   "pygments_lexer": "ipython3",
   "version": "3.8.10"
  },
  "orig_nbformat": 4,
  "vscode": {
   "interpreter": {
    "hash": "e7370f93d1d0cde622a1f8e1c04877d8463912d04d973331ad4851f04de6915a"
   }
  }
 },
 "nbformat": 4,
 "nbformat_minor": 2
}
