{
 "cells": [
  {
   "attachments": {},
   "cell_type": "markdown",
   "metadata": {},
   "source": [
    "## LSTM\n",
    "***"
   ]
  },
  {
   "cell_type": "code",
   "execution_count": 3,
   "metadata": {},
   "outputs": [],
   "source": [
    "import math\n",
    "import numpy as np"
   ]
  },
  {
   "cell_type": "code",
   "execution_count": 31,
   "metadata": {},
   "outputs": [],
   "source": [
    "def sigmoid(x):\n",
    "  return 1 / (1 + math.exp(-x))\n",
    "\n",
    "def sigmoid_diff(x):\n",
    "    return math.exp(-x)/(1+math.exp(-x))**2"
   ]
  },
  {
   "cell_type": "code",
   "execution_count": 18,
   "metadata": {},
   "outputs": [],
   "source": [
    "def forget_gate(h, x, W_fh, W_fx, b_f):\n",
    "    return sigmoid(W_fh*h+W_fx*x+b_f)\n",
    "\n",
    "def input_gate(h, x, W_ih, W_ix, b_i):\n",
    "    return sigmoid(W_ih*h+W_ix*x+b_i)\n",
    "\n",
    "def output_gate(h, x, W_oh, W_ox, b_o):\n",
    "    return sigmoid(W_oh*h+W_ox*x+b_o)\n",
    "\n",
    "def cell(h, x, c, f_t, i_t, W_ch, W_cx, b_c):\n",
    "    return round(f_t, 2)*c + round(i_t,2) *np.tanh(W_ch*h+W_cx*x+b_c)\n"
   ]
  },
  {
   "cell_type": "code",
   "execution_count": 26,
   "metadata": {},
   "outputs": [
    {
     "name": "stdout",
     "output_type": "stream",
     "text": [
      "0) Hiden state: 0.76\n",
      "1) Hiden state: -0.76\n",
      "2) Hiden state: 0.38\n",
      "3) Hiden state: 0.76\n",
      "4) Hiden state: -0.76\n"
     ]
    }
   ],
   "source": [
    "h_t = 0\n",
    "c_t = 0\n",
    "x = [1,1,0,1,1]\n",
    "\n",
    "# Iteration\n",
    "for count, x_t in enumerate(x):\n",
    "    f_t = forget_gate(h=h_t, x=x_t, W_fh=0, W_fx=0, b_f=-100)\n",
    "    i_t = input_gate(h=h_t, x=x_t, W_ih=0, W_ix=100, b_i=100)\n",
    "    o_t = output_gate(h=h_t, x=x_t, W_oh=0, W_ox=100, b_o=0)\n",
    "\n",
    "    c_t = cell(h=h_t, x=x_t, c=c_t, f_t=f_t, i_t=i_t, W_ch=-100, W_cx=50, b_c=0)\n",
    "    h_t = o_t*np.tanh(c_t)\n",
    "\n",
    "    # print(\"Forget gate:\", f_t)\n",
    "    # print(\"Input gate:\", i_t)\n",
    "    # print(\"Cell:\", c_t)\n",
    "    # print(\"Output gate:\", o_t)\n",
    "    print(\"{}) Hiden state: {}\".format(count, round(h_t,2)))"
   ]
  },
  {
   "attachments": {},
   "cell_type": "markdown",
   "metadata": {},
   "source": [
    "### Simple Network"
   ]
  },
  {
   "cell_type": "code",
   "execution_count": 33,
   "metadata": {},
   "outputs": [
    {
     "data": {
      "text/plain": [
       "0.28842841648243966"
      ]
     },
     "execution_count": 33,
     "metadata": {},
     "output_type": "execute_result"
    }
   ],
   "source": [
    "x = 3\n",
    "t = 1\n",
    "\n",
    "w_1 = 0.01\n",
    "w_2 = -5\n",
    "b = -1\n",
    "\n",
    "z_1 = w_1*x\n",
    "a_1 = max(0, z_1)\n",
    "z_2 = w_2*a_1+b\n",
    "\n",
    "y = sigmoid(z_2)\n",
    "C = 0.5*(y-t)**2\n",
    "C"
   ]
  },
  {
   "cell_type": "code",
   "execution_count": 39,
   "metadata": {},
   "outputs": [
    {
     "data": {
      "text/plain": [
       "-0.00416183312434091"
      ]
     },
     "execution_count": 39,
     "metadata": {},
     "output_type": "execute_result"
    }
   ],
   "source": [
    "grad_w2 = (y-t)*sigmoid_diff(z_2)*a_1\n",
    "grad_w2"
   ]
  },
  {
   "cell_type": "code",
   "execution_count": 40,
   "metadata": {},
   "outputs": [
    {
     "data": {
      "text/plain": [
       "2.0809165621704553"
      ]
     },
     "execution_count": 40,
     "metadata": {},
     "output_type": "execute_result"
    }
   ],
   "source": [
    "grad_w1 = (y-t)*sigmoid_diff(z_2)*w_2*x\n",
    "grad_w1"
   ]
  },
  {
   "cell_type": "code",
   "execution_count": 41,
   "metadata": {},
   "outputs": [
    {
     "data": {
      "text/plain": [
       "-0.13872777081136367"
      ]
     },
     "execution_count": 41,
     "metadata": {},
     "output_type": "execute_result"
    }
   ],
   "source": [
    "grad_b = (y-t)*sigmoid_diff(z_2)\n",
    "grad_b"
   ]
  }
 ],
 "metadata": {
  "kernelspec": {
   "display_name": "Python 3",
   "language": "python",
   "name": "python3"
  },
  "language_info": {
   "codemirror_mode": {
    "name": "ipython",
    "version": 3
   },
   "file_extension": ".py",
   "mimetype": "text/x-python",
   "name": "python",
   "nbconvert_exporter": "python",
   "pygments_lexer": "ipython3",
   "version": "3.8.10"
  },
  "orig_nbformat": 4
 },
 "nbformat": 4,
 "nbformat_minor": 2
}
