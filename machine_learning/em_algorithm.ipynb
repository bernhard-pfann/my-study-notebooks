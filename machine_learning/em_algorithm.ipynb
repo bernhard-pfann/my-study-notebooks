{
 "cells": [
  {
   "cell_type": "markdown",
   "metadata": {},
   "source": [
    "## EM algorithm\n",
    "***"
   ]
  },
  {
   "cell_type": "code",
   "execution_count": 2,
   "metadata": {},
   "outputs": [],
   "source": [
    "import numpy as np\n",
    "from scipy.stats import norm"
   ]
  },
  {
   "cell_type": "code",
   "execution_count": 3,
   "metadata": {},
   "outputs": [],
   "source": [
    "x = np.array([0.2, -0.9, -1, 1.2, 1.8])\n",
    "\n",
    "prior_1 = 0.5\n",
    "prior_2 = 0.5\n",
    "\n",
    "mu_1, sig_1 = -3, 2\n",
    "mu_2, sig_2 = 2, 2\n",
    "\n",
    "likelihood_1 = norm(mu_1, sig_1).pdf(x)\n",
    "likelihood_2 = norm(mu_2, sig_2).pdf(x)\n",
    "\n",
    "evidence = prior_1 * likelihood_1 + prior_2 * likelihood_2\n",
    "\n",
    "posterior_1 = prior_1 * likelihood_1 / evidence\n",
    "posterior_2 = prior_2 * likelihood_2 / evidence\n"
   ]
  },
  {
   "cell_type": "code",
   "execution_count": 4,
   "metadata": {},
   "outputs": [
    {
     "data": {
      "text/plain": [
       "0.3456246183552746"
      ]
     },
     "execution_count": 4,
     "metadata": {},
     "output_type": "execute_result"
    }
   ],
   "source": [
    "n_1 = sum(posterior_1)\n",
    "hat_prior_1 = n_1/5\n",
    "hat_prior_1"
   ]
  },
  {
   "cell_type": "code",
   "execution_count": 5,
   "metadata": {},
   "outputs": [
    {
     "data": {
      "text/plain": [
       "-0.5373289474340417"
      ]
     },
     "execution_count": 5,
     "metadata": {},
     "output_type": "execute_result"
    }
   ],
   "source": [
    "hat_mu_1 = sum(posterior_1*x)/n_1\n",
    "hat_mu_1"
   ]
  },
  {
   "cell_type": "code",
   "execution_count": 6,
   "metadata": {},
   "outputs": [
    {
     "data": {
      "text/plain": [
       "0.5757859076870628"
      ]
     },
     "execution_count": 6,
     "metadata": {},
     "output_type": "execute_result"
    }
   ],
   "source": [
    "hat_sig_1 = np.sqrt(sum(posterior_1 * np.square(x - hat_mu_1))/n_1)\n",
    "hat_sig_1**2"
   ]
  }
 ],
 "metadata": {
  "kernelspec": {
   "display_name": "Python 3",
   "language": "python",
   "name": "python3"
  },
  "language_info": {
   "codemirror_mode": {
    "name": "ipython",
    "version": 3
   },
   "file_extension": ".py",
   "mimetype": "text/x-python",
   "name": "python",
   "nbconvert_exporter": "python",
   "pygments_lexer": "ipython3",
   "version": "3.8.10"
  },
  "orig_nbformat": 4
 },
 "nbformat": 4,
 "nbformat_minor": 2
}
