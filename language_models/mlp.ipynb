{
 "cells": [
  {
   "attachments": {},
   "cell_type": "markdown",
   "metadata": {},
   "source": [
    "### Import\n",
    "***"
   ]
  },
  {
   "cell_type": "code",
   "execution_count": 1,
   "metadata": {},
   "outputs": [],
   "source": [
    "from typing import List, Tuple\n",
    "import random\n",
    "import torch\n",
    "import torch.nn.functional as F\n",
    "import matplotlib.pyplot as plt\n",
    "%matplotlib inline"
   ]
  },
  {
   "cell_type": "code",
   "execution_count": 2,
   "metadata": {},
   "outputs": [
    {
     "data": {
      "text/plain": [
       "['emma', 'olivia', 'ava', 'isabella', 'sophia', 'charlotte', 'mia', 'amelia']"
      ]
     },
     "execution_count": 2,
     "metadata": {},
     "output_type": "execute_result"
    }
   ],
   "source": [
    "# read in all the words\n",
    "words = open(\"assets/names.txt\", \"r\").read().splitlines()\n",
    "words[:8]"
   ]
  },
  {
   "cell_type": "code",
   "execution_count": 3,
   "metadata": {},
   "outputs": [],
   "source": [
    "# build the vocabulary of characters and mappings to/from integers\n",
    "chars = sorted(list(set(''.join(words))))\n",
    "stoi = {s:i+1 for i,s in enumerate(chars)}\n",
    "stoi['.'] = 0\n",
    "itos = {i:s for s,i in stoi.items()}\n",
    "\n",
    "# Number of unique characters\n",
    "vocab = len(itos)"
   ]
  },
  {
   "attachments": {},
   "cell_type": "markdown",
   "metadata": {},
   "source": [
    "### Generate Dataset\n",
    "***"
   ]
  },
  {
   "cell_type": "code",
   "execution_count": null,
   "metadata": {},
   "outputs": [],
   "source": [
    "block_size = 3 # context length: Number of characters we take to predict the next one?\n",
    "X, Y = [], []\n",
    "for w in words[:3]:\n",
    "  \n",
    "    print(w)\n",
    "    # Initial context for every new word is zero vector of 'block_size'\n",
    "    context = [0] * block_size\n",
    "    for ch in w + '.':\n",
    "        # Index of the character (e.g. A=0, B=1)\n",
    "        ix = stoi[ch]\n",
    "        X.append(context)\n",
    "        Y.append(ix)\n",
    "        print(''.join(itos[i] for i in context), '-->', itos[ix])\n",
    "        \n",
    "        # ignore the first letter of current context and add the latest letter\n",
    "        context = context[1:] + [ix]\n",
    "\n",
    "X = torch.tensor(X)\n",
    "Y = torch.tensor(Y)"
   ]
  },
  {
   "cell_type": "code",
   "execution_count": null,
   "metadata": {},
   "outputs": [],
   "source": [
    "print(X.shape)\n",
    "print(Y.shape)\n",
    "X"
   ]
  },
  {
   "cell_type": "code",
   "execution_count": 4,
   "metadata": {},
   "outputs": [],
   "source": [
    "def build_dataset(words: List[str], block_size: int) -> Tuple[torch.tensor, torch.tensor]:  \n",
    "    \"\"\"\n",
    "    Take list of words to construct tensors X, y where each X observation\n",
    "    is of length 'blocksize'.\n",
    "    \n",
    "    :param words: List of raw inputs.\n",
    "    :param block_size: Number of characters to use as context for next character.\n",
    "    :return: Tensors for X (n, 'block_size') and Y (n, )\n",
    "    \"\"\"\n",
    "    X, Y = [], []\n",
    "    for w in words:\n",
    "\n",
    "      context = [0] * block_size\n",
    "      for ch in w + '.':\n",
    "          ix = stoi[ch]\n",
    "          X.append(context)\n",
    "          Y.append(ix)\n",
    "          context = context[1:] + [ix]\n",
    "\n",
    "    X = torch.tensor(X)\n",
    "    Y = torch.tensor(Y)\n",
    "    return X, Y"
   ]
  },
  {
   "cell_type": "code",
   "execution_count": 5,
   "metadata": {},
   "outputs": [
    {
     "name": "stdout",
     "output_type": "stream",
     "text": [
      "Train: torch.Size([182625, 3]) torch.Size([182625])\n",
      "Valid: torch.Size([22655, 3]) torch.Size([22655])\n",
      "Test: torch.Size([22866, 3]) torch.Size([22866])\n"
     ]
    }
   ],
   "source": [
    "block_size = 3\n",
    "\n",
    "random.seed(42)\n",
    "random.shuffle(words)\n",
    "n1 = int(0.8*len(words))\n",
    "n2 = int(0.9*len(words))\n",
    "\n",
    "train_words = words[:n1]\n",
    "valid_words = words[n1:n2]\n",
    "test_words = words[n2:]\n",
    "\n",
    "X_train, Y_train = build_dataset(train_words, block_size=3)\n",
    "X_valid, Y_valid = build_dataset(valid_words, block_size=3)\n",
    "X_test, Y_test = build_dataset(test_words, block_size=3)\n",
    "\n",
    "print(\"Train:\", X_train.shape, Y_train.shape)\n",
    "print(\"Valid:\", X_valid.shape, Y_valid.shape)\n",
    "print(\"Test:\", X_test.shape, Y_test.shape)"
   ]
  },
  {
   "attachments": {},
   "cell_type": "markdown",
   "metadata": {},
   "source": [
    "### Neural Network for Single Batch\n",
    "***"
   ]
  },
  {
   "cell_type": "code",
   "execution_count": null,
   "metadata": {},
   "outputs": [],
   "source": [
    "batch_size = 32\n",
    "\n",
    "# Randomly draw indizes from X_train that go into minibatch\n",
    "idx = torch.randint(low=0, high=n1, size=(batch_size,))\n",
    "\n",
    "# Get mini-batch\n",
    "X_mini = X_train[idx]\n",
    "Y_mini = Y_train[idx]\n",
    "\n",
    "# We one-hot-encode our n observations. \n",
    "# Each observation holds 3 characters with each 27 length.\n",
    "input_layer = F.one_hot(X_mini, num_classes=vocab).float() # (n, 3, vocab)\n",
    "\n",
    "# We want to embedd each character vector from 27 to 2 dimensions\n",
    "# This means that each observation of 3 characters results in an embedded vector of length 6\n",
    "C = torch.randn((81, 6), generator=g) # (vocab * block_size, block_size * emb_dimension)\n",
    "\n",
    "# We need to stack the 3 one-hot-encoded characters togehter (n, 3 * vocab)\n",
    "# Now dimensions are aligned for matrix\n",
    "embedd_layer = input_layer.view(-1, 81) @ C # (n, 6)\n",
    "\n",
    "W1 = torch.randn((6, 100), generator=g) # (block_size * emb_dimension, hidden neurons)\n",
    "b1 = torch.randn(100, generator=g) # (1 bias term per hidden neuron)\n",
    "\n",
    "# We have a hidden layer with 100 neurons\n",
    "hidden_layer = torch.tanh(embedd_layer @ W1 + b1) # (n, 100)\n",
    "\n",
    "# The output layer should match the number of characters\n",
    "W2 = torch.randn((100, vocab), generator=g)\n",
    "b2 = torch.randn(vocab, generator=g)\n",
    "\n",
    "output_layer = hidden_layer @ W2 + b2 # (n, vocab)\n",
    "\n",
    "# OPTION 1:\n",
    "# Convert logits of output layer into probabilities\n",
    "# Calculate loss as average negative log likelihood\n",
    "probs = F.softmax(output_layer, dim=1)\n",
    "loss = -probs[torch.arange(batch_size), Y_mini].log().mean()\n",
    "\n",
    "# OPTION 2:\n",
    "# The cross entroy function is equivalent to option 1\n",
    "# However it is more numerically stable\n",
    "loss = F.cross_entropy(output_layer, Y_mini)\n",
    "loss"
   ]
  },
  {
   "attachments": {},
   "cell_type": "markdown",
   "metadata": {},
   "source": [
    "### Optimization\n",
    "***"
   ]
  },
  {
   "cell_type": "code",
   "execution_count": 50,
   "metadata": {},
   "outputs": [],
   "source": [
    "g = torch.Generator().manual_seed(42)\n",
    "\n",
    "\n",
    "C = torch.randn((81, 6), generator=g) # (vocab * block_size, block_size * emb_dimension)\n",
    "W1 = torch.randn((6, 100), generator=g) # (block_size * emb_dimension, hidden neurons)\n",
    "b1 = torch.randn(100, generator=g) # (1 bias term per hidden neuron)\n",
    "W2 = torch.randn((100, 27), generator=g) # (hidden neurons, output size)\n",
    "b2 = torch.randn(27, generator=g) # (1 bias term per output)\n",
    "parameters = [C, W1, b1, W2, b2]\n",
    "\n",
    "# Add gradient attribute to all tensors\n",
    "for p in parameters:\n",
    "    p.requires_grad = True"
   ]
  },
  {
   "cell_type": "code",
   "execution_count": 51,
   "metadata": {},
   "outputs": [],
   "source": [
    "# Record loss after each iteration\n",
    "loss_i = []"
   ]
  },
  {
   "cell_type": "code",
   "execution_count": 54,
   "metadata": {},
   "outputs": [
    {
     "name": "stdout",
     "output_type": "stream",
     "text": [
      "tensor(2.2191, grad_fn=<NllLossBackward0>)\n"
     ]
    }
   ],
   "source": [
    "batch_size = 32\n",
    "learn_rate = 0.1\n",
    "\n",
    "for i in range(100000):\n",
    "\n",
    "    idx = torch.randint(low=0, high=n1, size=(batch_size,))\n",
    "\n",
    "    X_mini = X_train[idx]\n",
    "    Y_mini = Y_train[idx]\n",
    "\n",
    "    # Forward pass\n",
    "    input_layer = F.one_hot(X_mini, num_classes=vocab).float()\n",
    "    embedd_layer = input_layer.view(-1, 81) @ C\n",
    "    hidden_layer = torch.tanh(embedd_layer @ W1 + b1)\n",
    "    output_layer = hidden_layer @ W2 + b2\n",
    "    loss = F.cross_entropy(output_layer, Y_mini)\n",
    "\n",
    "    # Reset the gradient in each iteration\n",
    "    for p in parameters:\n",
    "        p.grad = None\n",
    "    # Backward pass\n",
    "    loss.backward()\n",
    "    \n",
    "    # Update parameters (gradient descent)\n",
    "    for p in parameters:\n",
    "        p.data += learn_rate * -p.grad\n",
    "\n",
    "    loss_i.append(loss.log10().item())\n",
    "\n",
    "print(loss)"
   ]
  },
  {
   "cell_type": "code",
   "execution_count": 55,
   "metadata": {},
   "outputs": [
    {
     "data": {
      "text/plain": [
       "[<matplotlib.lines.Line2D at 0x7f4a001b50d0>]"
      ]
     },
     "execution_count": 55,
     "metadata": {},
     "output_type": "execute_result"
    },
    {
     "data": {
      "image/png": "[encoded data removed]",
      "text/plain": [
       "<Figure size 640x480 with 1 Axes>"
      ]
     },
     "metadata": {},
     "output_type": "display_data"
    }
   ],
   "source": [
    "plt.plot(loss_i)"
   ]
  },
  {
   "cell_type": "code",
   "execution_count": 63,
   "metadata": {},
   "outputs": [
    {
     "data": {
      "text/plain": [
       "tensor(2.3824, grad_fn=<NllLossBackward0>)"
      ]
     },
     "execution_count": 63,
     "metadata": {},
     "output_type": "execute_result"
    }
   ],
   "source": [
    "# Forward pass (valid dataset)\n",
    "input_layer = F.one_hot(X_valid, num_classes=vocab).float()\n",
    "embedd_layer = input_layer.view(-1, 81) @ C\n",
    "hidden_layer = torch.tanh(embedd_layer @ W1 + b1)\n",
    "output_layer = hidden_layer @ W2 + b2\n",
    "loss = F.cross_entropy(output_layer, Y_valid)\n",
    "loss"
   ]
  },
  {
   "cell_type": "code",
   "execution_count": 77,
   "metadata": {},
   "outputs": [
    {
     "data": {
      "text/plain": [
       "'r'"
      ]
     },
     "execution_count": 77,
     "metadata": {},
     "output_type": "execute_result"
    }
   ],
   "source": [
    "context = [0] * block_size\n",
    "\n",
    "input_layer = F.one_hot(torch.tensor(context), num_classes=vocab).float()\n",
    "embedd_layer = input_layer.view(-1, 81) @ C\n",
    "hidden_layer = torch.tanh(embedd_layer @ W1 + b1)\n",
    "output_layer = hidden_layer @ W2 + b2\n",
    "probs = F.softmax(output_layer, dim=1)\n",
    "pred_idx = torch.multinomial(probs, num_samples=1, generator=g).item()\n",
    "\n",
    "itos[pred_idx]"
   ]
  },
  {
   "cell_type": "code",
   "execution_count": 66,
   "metadata": {},
   "outputs": [
    {
     "data": {
      "text/plain": [
       "torch.Size([1, 27])"
      ]
     },
     "execution_count": 66,
     "metadata": {},
     "output_type": "execute_result"
    }
   ],
   "source": [
    "output_layer.shape"
   ]
  },
  {
   "cell_type": "code",
   "execution_count": null,
   "metadata": {},
   "outputs": [],
   "source": [
    "for _ in range(20):\n",
    "    \n",
    "    out = []\n",
    "    context = [0] * block_size\n",
    "    while True:\n",
    "      emb = C[torch.tensor([context])] # (1,block_size,d)\n",
    "      h = torch.tanh(emb.view(1, -1) @ W1 + b1)\n",
    "      logits = h @ W2 + b2\n",
    "      probs = F.softmax(logits, dim=1)\n",
    "      ix = torch.multinomial(probs, num_samples=1, generator=g).item()\n",
    "      context = context[1:] + [ix]\n",
    "      out.append(ix)\n",
    "      if ix == 0:\n",
    "        break\n",
    "    \n",
    "    print(''.join(itos[i] for i in out))"
   ]
  }
 ],
 "metadata": {
  "kernelspec": {
   "display_name": "Python 3",
   "language": "python",
   "name": "python3"
  },
  "language_info": {
   "codemirror_mode": {
    "name": "ipython",
    "version": 3
   },
   "file_extension": ".py",
   "mimetype": "text/x-python",
   "name": "python",
   "nbconvert_exporter": "python",
   "pygments_lexer": "ipython3",
   "version": "3.8.10"
  },
  "orig_nbformat": 4
 },
 "nbformat": 4,
 "nbformat_minor": 2
}
