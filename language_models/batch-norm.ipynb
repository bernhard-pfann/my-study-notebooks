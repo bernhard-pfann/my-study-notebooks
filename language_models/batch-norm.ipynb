{
 "cells": [
  {
   "attachments": {},
   "cell_type": "markdown",
   "metadata": {},
   "source": [
    "### Import\n",
    "***"
   ]
  },
  {
   "cell_type": "code",
   "execution_count": 1,
   "metadata": {},
   "outputs": [],
   "source": [
    "from typing import List, Tuple\n",
    "import random\n",
    "import torch\n",
    "import torch.nn.functional as F\n",
    "import matplotlib.pyplot as plt"
   ]
  },
  {
   "cell_type": "code",
   "execution_count": 2,
   "metadata": {},
   "outputs": [
    {
     "data": {
      "text/plain": [
       "['emma', 'olivia', 'ava', 'isabella', 'sophia', 'charlotte', 'mia', 'amelia']"
      ]
     },
     "execution_count": 2,
     "metadata": {},
     "output_type": "execute_result"
    }
   ],
   "source": [
    "words = open(\"assets/names.txt\", \"r\").read().splitlines()\n",
    "words[:8]"
   ]
  },
  {
   "cell_type": "code",
   "execution_count": 3,
   "metadata": {},
   "outputs": [],
   "source": [
    "# Build the vocabulary of characters and mappings to/from integers\n",
    "chars = sorted(list(set(\"\".join(words))))\n",
    "stoi = {s:i+1 for i,s in enumerate(chars)}\n",
    "stoi[\".\"] = 0\n",
    "itos = {i:s for s,i in stoi.items()}\n",
    "\n",
    "# Number of unique characters\n",
    "vocab_size = len(itos)"
   ]
  },
  {
   "attachments": {},
   "cell_type": "markdown",
   "metadata": {},
   "source": [
    "### Generate Dataset\n",
    "***"
   ]
  },
  {
   "cell_type": "code",
   "execution_count": 4,
   "metadata": {},
   "outputs": [],
   "source": [
    "def build_dataset(words: List[str], block_size: int) -> Tuple[torch.tensor, torch.tensor]:  \n",
    "    \"\"\"\n",
    "    Take list of words to construct tensors X, y where each X observation\n",
    "    is of length 'blocksize'.\n",
    "    \n",
    "    :param words: List of raw inputs.\n",
    "    :param block_size: Number of characters to use as context for next character.\n",
    "    :return: Tensors for X (n, 'block_size') and Y (n, )\n",
    "    \"\"\"\n",
    "    X, Y = [], []\n",
    "    for w in words:\n",
    "\n",
    "      context = [0] * block_size\n",
    "      for ch in w + \".\":\n",
    "          ix = stoi[ch]\n",
    "          X.append(context)\n",
    "          Y.append(ix)\n",
    "          context = context[1:] + [ix]\n",
    "\n",
    "    X = torch.tensor(X)\n",
    "    Y = torch.tensor(Y)\n",
    "    return X, Y"
   ]
  },
  {
   "cell_type": "code",
   "execution_count": 5,
   "metadata": {},
   "outputs": [
    {
     "name": "stdout",
     "output_type": "stream",
     "text": [
      "Train: torch.Size([182625, 3]) torch.Size([182625])\n",
      "Valid: torch.Size([22655, 3]) torch.Size([22655])\n",
      "Test: torch.Size([22866, 3]) torch.Size([22866])\n"
     ]
    }
   ],
   "source": [
    "block_size = 3\n",
    "\n",
    "random.seed(42)\n",
    "random.shuffle(words)\n",
    "n1 = int(0.8*len(words))\n",
    "n2 = int(0.9*len(words))\n",
    "\n",
    "train_words = words[:n1]\n",
    "valid_words = words[n1:n2]\n",
    "test_words = words[n2:]\n",
    "\n",
    "X_train, Y_train = build_dataset(train_words, block_size=3)\n",
    "X_valid, Y_valid = build_dataset(valid_words, block_size=3)\n",
    "X_test, Y_test = build_dataset(test_words, block_size=3)\n",
    "\n",
    "print(\"Train:\", X_train.shape, Y_train.shape)\n",
    "print(\"Valid:\", X_valid.shape, Y_valid.shape)\n",
    "print(\"Test:\", X_test.shape, Y_test.shape)"
   ]
  },
  {
   "attachments": {},
   "cell_type": "markdown",
   "metadata": {},
   "source": [
    "### Initialization\n",
    "***"
   ]
  },
  {
   "cell_type": "code",
   "execution_count": 29,
   "metadata": {},
   "outputs": [],
   "source": [
    "n_embd = 10 # the dimensionality of the character embedding vectors\n",
    "n_hidden = 200 # the number of neurons in the hidden layer\n",
    "\n",
    "g = torch.Generator().manual_seed(42)\n",
    "\n",
    "# Weights an biases\n",
    "C  = torch.randn((vocab_size, n_embd),            generator=g)\n",
    "W1 = torch.randn((n_embd * block_size, n_hidden), generator=g)\n",
    "b1 = torch.randn(n_hidden,                        generator=g)\n",
    "W2 = torch.randn((n_hidden, vocab_size),          generator=g)\n",
    "b2 = torch.randn(vocab_size,                      generator=g)\n",
    "\n",
    "params = [C, W1, b1, W2, b2]\n",
    "\n",
    "for p in params:\n",
    "    p.requires_grad = True"
   ]
  },
  {
   "cell_type": "code",
   "execution_count": 30,
   "metadata": {},
   "outputs": [
    {
     "data": {
      "text/plain": [
       "11897"
      ]
     },
     "execution_count": 30,
     "metadata": {},
     "output_type": "execute_result"
    }
   ],
   "source": [
    "n_params = sum([p.nelement() for p in params])\n",
    "n_params"
   ]
  },
  {
   "attachments": {},
   "cell_type": "markdown",
   "metadata": {},
   "source": [
    "<u>Scaling output layer:</u> At initialization we need to adjust the parameters for <code>W2</code>, <code>b2</code>. This is because the output layer produces to extreme values, that lead to overconfident probabilities after softmax transformation. This is an undesired property, as the network should start with uniform probabilities for each character at initialization."
   ]
  },
  {
   "cell_type": "code",
   "execution_count": 31,
   "metadata": {},
   "outputs": [
    {
     "name": "stdout",
     "output_type": "stream",
     "text": [
      "      0 /   30000: 31.6872\n",
      "  10000 /   30000: 2.6372\n",
      "  20000 /   30000: 2.7975\n"
     ]
    }
   ],
   "source": [
    "max_steps = 30_000\n",
    "batch_size = 32\n",
    "learn_rate = 0.1\n",
    "loss_i = []\n",
    "\n",
    "for i in range(max_steps):\n",
    "    \n",
    "    # Randomly draw indizes from X_train that go into minibatch\n",
    "    idx = torch.randint(low=0, high=n1, size=(batch_size,), generator=g)\n",
    "    X_mini = X_train[idx]\n",
    "    Y_mini = Y_train[idx]\n",
    "    \n",
    "    # Forward pass\n",
    "    embedd_layer = C[X_mini]\n",
    "    hidden_preact = embedd_layer.view(batch_size, -1) @ W1 + b1 \n",
    "    hidden_layer = torch.tanh(hidden_preact)\n",
    "    output_layer = hidden_layer @ W2 + b2\n",
    "    loss = F.cross_entropy(output_layer, Y_mini)\n",
    "    \n",
    "    # Backward pass\n",
    "    for p in params:\n",
    "        p.grad = None\n",
    "    loss.backward()\n",
    "    \n",
    "    # Update gradient\n",
    "    for p in params:\n",
    "        p.data += learn_rate * -p.grad\n",
    "\n",
    "    loss_i.append(loss.log10().item())\n",
    "    if i % 10000 ==0:\n",
    "        print(\"{:7d} / {:7d}: {:.4f}\".format(i, max_steps, loss))"
   ]
  },
  {
   "attachments": {},
   "cell_type": "markdown",
   "metadata": {},
   "source": [
    "In our case the uniform probabilities should roughly be <code>-np.log(1/27)=3.295</code> for each of the 27 characters in the outputlayer. We can see that the loss at start is bigger than that."
   ]
  },
  {
   "cell_type": "code",
   "execution_count": 39,
   "metadata": {},
   "outputs": [
    {
     "data": {
      "image/png": "[encoded data removed]",
      "text/plain": [
       "<Figure size 640x480 with 1 Axes>"
      ]
     },
     "metadata": {},
     "output_type": "display_data"
    }
   ],
   "source": [
    "plt.plot(loss_i)\n",
    "plt.title(\"Loss per Iteration\");"
   ]
  },
  {
   "attachments": {},
   "cell_type": "markdown",
   "metadata": {},
   "source": [
    "<u>Biases:</u> At initialization we can set all bias vectors to 0. This makes sure that all neurons start in a neutral position. Note that we should only set the biases to 0 if we keep the weights randomized. This is because when everything is initialized at 0, then all neurons would learn the same behavior and be redundant (breaking symmetry)."
   ]
  },
  {
   "cell_type": "code",
   "execution_count": 46,
   "metadata": {},
   "outputs": [
    {
     "data": {
      "image/png": "[encoded data removed]",
      "text/plain": [
       "<Figure size 2000x500 with 3 Axes>"
      ]
     },
     "metadata": {},
     "output_type": "display_data"
    }
   ],
   "source": [
    "fig, ax = plt.subplots(ncols=3, figsize=(20,5))\n",
    "ax[0].hist(embedd_layer.data.view(-1), bins=20)\n",
    "ax[1].hist(hidden_preact.data.view(-1), bins=20)\n",
    "ax[2].hist(hidden_layer.data.view(-1), bins=20)\n",
    "\n",
    "ax[0].set_title(\"Embedding Layer\")\n",
    "ax[1].set_title(\"Hidden Layer (pre activation)\")\n",
    "ax[2].set_title(\"Hidden Layer (post activation)\")\n",
    "\n",
    "plt.show()"
   ]
  },
  {
   "attachments": {},
   "cell_type": "markdown",
   "metadata": {},
   "source": [
    "We also need to adjust <code>W1</code>. This is because the matrix multiplication before the activation function is still centered around 0, but the variance has increased. This leads to the activation function squeezing majority of observations to 1 or -1. At these flat regions of the activation function, there is bascially no gradient. This can lead to dead neurons with 0 gradients for every input."
   ]
  },
  {
   "cell_type": "code",
   "execution_count": 49,
   "metadata": {},
   "outputs": [
    {
     "data": {
      "image/png": "[encoded data removed]",
      "text/plain": [
       "<Figure size 640x480 with 1 Axes>"
      ]
     },
     "metadata": {},
     "output_type": "display_data"
    }
   ],
   "source": [
    "import numpy as np\n",
    "\n",
    "x = np.linspace(-10, 10, 100)\n",
    "y = np.tanh(x)\n",
    "\n",
    "plt.plot(x, y)\n",
    "plt.xlabel(\"x\")\n",
    "plt.ylabel(\"tanh(x)\")\n",
    "plt.title(\"tanh function\")\n",
    "plt.show()"
   ]
  },
  {
   "cell_type": "code",
   "execution_count": 51,
   "metadata": {},
   "outputs": [],
   "source": [
    "n_embd = 10 # the dimensionality of the character embedding vectors\n",
    "n_hidden = 200 # the number of neurons in the hidden layer\n",
    "\n",
    "g = torch.Generator().manual_seed(42)\n",
    "\n",
    "# Weights an biases\n",
    "C  = torch.randn((vocab_size, n_embd),            generator=g)\n",
    "W1 = torch.randn((n_embd * block_size, n_hidden), generator=g) * 0.2\n",
    "b1 = torch.randn(n_hidden,                        generator=g) * 0\n",
    "W2 = torch.randn((n_hidden, vocab_size),          generator=g) * 0.01\n",
    "b2 = torch.randn(vocab_size,                      generator=g) * 0\n",
    "\n",
    "params = [C, W1, b1, W2, b2]\n",
    "\n",
    "for p in params:\n",
    "    p.requires_grad = True"
   ]
  },
  {
   "attachments": {},
   "cell_type": "markdown",
   "metadata": {},
   "source": [
    "### Batch Normalization\n",
    "***"
   ]
  },
  {
   "attachments": {},
   "cell_type": "markdown",
   "metadata": {},
   "source": [
    "When neural networks get deeper it gets intractible to scale the initializations properly. Therefore we can instead just normalize the inputs during the forward pass, before the activation function is applied. We simply standardize the pre activation by the batch mean and batch standard deviation. This results in several effects:\n",
    "- By relying on the batch statistics, the observations within a batch are now mathematically connected. Before the forward pass of each training example was independent of the other. Predictions on new data rely on batch information.\n",
    "- Relying on the batch statistics applies some sort of regularization, as it prevents overfitting on single examples.\n",
    "- The pre-activtion is forced into a N(0,1). To give back flexibility, we need to add a shift <code>bn_gain</code> and a scaling parameter<code>bn_bias</code>."
   ]
  },
  {
   "cell_type": "code",
   "execution_count": 85,
   "metadata": {},
   "outputs": [],
   "source": [
    "n_embd = 10 # the dimensionality of the character embedding vectors\n",
    "n_hidden = 200 # the number of neurons in the hidden layer\n",
    "\n",
    "g = torch.Generator().manual_seed(42)\n",
    "\n",
    "# Weights an biases\n",
    "C  = torch.randn((vocab_size, n_embd),            generator=g)\n",
    "W1 = torch.randn((n_embd * block_size, n_hidden), generator=g) * 0.2\n",
    "# b1 = torch.randn(n_hidden,                        generator=g) * 0\n",
    "W2 = torch.randn((n_hidden, vocab_size),          generator=g) * 0.01\n",
    "b2 = torch.randn(vocab_size,                      generator=g) * 0\n",
    "\n",
    "# Batch norm parameters\n",
    "bn_gain = torch.ones((1, n_hidden))\n",
    "bn_bias = torch.zeros((1, n_hidden))\n",
    "bn_mean_running = torch.zeros((1, n_hidden))\n",
    "bn_std_running = torch.ones((1, n_hidden))\n",
    "\n",
    "params = [C, W1, W2, b2, bn_gain, bn_bias]\n",
    "\n",
    "for p in params:\n",
    "    p.requires_grad = True\n"
   ]
  },
  {
   "attachments": {},
   "cell_type": "markdown",
   "metadata": {},
   "source": [
    "The <code>b1</code> parameter will not be relevant anymore as it is offset by the <code>bn_gain</code> parameter."
   ]
  },
  {
   "cell_type": "code",
   "execution_count": 86,
   "metadata": {},
   "outputs": [
    {
     "data": {
      "text/plain": [
       "12097"
      ]
     },
     "execution_count": 86,
     "metadata": {},
     "output_type": "execute_result"
    }
   ],
   "source": [
    "n_params = sum([p.nelement() for p in params])\n",
    "n_params"
   ]
  },
  {
   "cell_type": "code",
   "execution_count": 87,
   "metadata": {},
   "outputs": [
    {
     "name": "stdout",
     "output_type": "stream",
     "text": [
      "      0 /   50000: 3.3145\n",
      "  10000 /   50000: 2.5037\n",
      "  20000 /   50000: 1.9022\n",
      "  30000 /   50000: 2.1255\n",
      "  40000 /   50000: 2.2797\n"
     ]
    }
   ],
   "source": [
    "max_steps = 50_000\n",
    "batch_size = 32\n",
    "learn_rate = 0.1\n",
    "loss_i = []\n",
    "\n",
    "for i in range(max_steps):\n",
    "    \n",
    "    # Randomly draw indizes from X_train that go into minibatch\n",
    "    idx = torch.randint(low=0, high=n1, size=(batch_size,))\n",
    "    X_mini = X_train[idx]\n",
    "    Y_mini = Y_train[idx]\n",
    "    \n",
    "    # Forward pass\n",
    "    embedd_layer = C[X_mini]\n",
    "    hidden_preact = embedd_layer.view(batch_size, -1) @ W1\n",
    "    \n",
    "    # Batch norm layer\n",
    "    # -------------------------------------------------------------\n",
    "    bn_mean_i = hidden_preact.mean(0, keepdim=True)\n",
    "    bn_std_i = hidden_preact.std(0, keepdim=True)\n",
    "    \n",
    "    hidden_preact = bn_gain * (hidden_preact - bn_mean_i) / bn_std_i + bn_bias\n",
    "    # Calculate the running average for prediction\n",
    "    with torch.no_grad():\n",
    "        bn_mean_running = 0.999 * bn_mean_running + 0.001 * bn_mean_i\n",
    "        bn_std_running = 0.999 * bn_std_running + 0.001 * bn_std_i\n",
    "    # -------------------------------------------------------------\n",
    "    \n",
    "    hidden_layer = torch.tanh(hidden_preact)\n",
    "    output_layer = hidden_layer @ W2 + b2\n",
    "    loss = F.cross_entropy(output_layer, Y_mini)\n",
    "    \n",
    "    # Backward pass\n",
    "    for p in params:\n",
    "        p.grad = None\n",
    "    loss.backward()\n",
    "    \n",
    "    # Update gradient\n",
    "    for p in params:\n",
    "        p.data += learn_rate * -p.grad\n",
    "\n",
    "    loss_i.append(loss.log10().item())\n",
    "    if i % 10000 ==0:\n",
    "        print(\"{:7d} / {:7d}: {:.4f}\".format(i, max_steps, loss))"
   ]
  },
  {
   "attachments": {},
   "cell_type": "markdown",
   "metadata": {},
   "source": [
    "<u>Summary:</u> The normalization step in batch normalization makes the input to the activation function more consistent within each mini-batch, which helps in better learning of weights and biases. It reduces the internal covariate shift and provides a stable and consistent input distribution to subsequent layers.\n",
    "\n",
    "Adding back the scaling and drifting parameters allows the preactivation of each neuron to have the flexibility to deviate from a standard Gaussian distribution. The scaling parameter, also known as the “scale parameter,” allows the network to learn the optimal scale for the normalized values. It can increase or decrease the magnitude of the normalized values, enabling the network to have different activation ranges for different layers or units."
   ]
  },
  {
   "cell_type": "code",
   "execution_count": 91,
   "metadata": {},
   "outputs": [],
   "source": [
    "# this decorator disables gradient tracking\n",
    "@torch.no_grad()\n",
    "def split_loss(split):\n",
    "    x,y = {\n",
    "        \"train\": (X_train, Y_train),\n",
    "        \"valid\": (X_valid, Y_valid),\n",
    "        \"test\": (X_test, Y_test),\n",
    "    }[split]\n",
    "\n",
    "    embedd_layer = C[x]\n",
    "    n_obs = len(C[x])\n",
    "    hidden_preact = embedd_layer.view(n_obs, -1) @ W1  \n",
    "    hidden_preact = bn_gain * (hidden_preact - bn_mean_running) / bn_std_running + bn_bias \n",
    "    hidden_layer = torch.tanh(hidden_preact)\n",
    "    output_layer = hidden_layer @ W2 + b2\n",
    "    loss = F.cross_entropy(output_layer, y)\n",
    "    print(loss)"
   ]
  },
  {
   "cell_type": "code",
   "execution_count": 94,
   "metadata": {},
   "outputs": [
    {
     "name": "stdout",
     "output_type": "stream",
     "text": [
      "tensor(2.2956)\n",
      "tensor(2.3464)\n"
     ]
    }
   ],
   "source": [
    "split_loss(\"train\")\n",
    "split_loss(\"valid\")"
   ]
  }
 ],
 "metadata": {
  "kernelspec": {
   "display_name": ".venv",
   "language": "python",
   "name": "python3"
  },
  "language_info": {
   "codemirror_mode": {
    "name": "ipython",
    "version": 3
   },
   "file_extension": ".py",
   "mimetype": "text/x-python",
   "name": "python",
   "nbconvert_exporter": "python",
   "pygments_lexer": "ipython3",
   "version": "3.8.10"
  },
  "orig_nbformat": 4
 },
 "nbformat": 4,
 "nbformat_minor": 2
}
